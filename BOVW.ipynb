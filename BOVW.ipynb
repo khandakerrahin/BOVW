{
  "nbformat": 4,
  "nbformat_minor": 0,
  "metadata": {
    "colab": {
      "name": "BOVW.ipynb",
      "provenance": [],
      "collapsed_sections": [],
      "include_colab_link": true
    },
    "kernelspec": {
      "name": "python3",
      "display_name": "Python 3"
    },
    "language_info": {
      "name": "python"
    }
  },
  "cells": [
    {
      "cell_type": "markdown",
      "metadata": {
        "id": "view-in-github",
        "colab_type": "text"
      },
      "source": [
        "<a href=\"https://colab.research.google.com/github/khandakerrahin/BOVW/blob/main/BOVW.ipynb\" target=\"_parent\"><img src=\"https://colab.research.google.com/assets/colab-badge.svg\" alt=\"Open In Colab\"/></a>"
      ]
    },
    {
      "cell_type": "markdown",
      "source": [
        "We start by mounting our drive folder so that we can access our data."
      ],
      "metadata": {
        "id": "sQctZtWq7F_C"
      }
    },
    {
      "cell_type": "code",
      "source": [
        "from google.colab import drive\n",
        "drive.mount('/content/drive', force_remount=True)"
      ],
      "metadata": {
        "colab": {
          "base_uri": "https://localhost:8080/"
        },
        "id": "-2yILtm804y7",
        "outputId": "d10b6a22-04f4-46d8-c990-07bfb8d56182"
      },
      "execution_count": null,
      "outputs": [
        {
          "output_type": "stream",
          "name": "stdout",
          "text": [
            "Mounted at /content/drive\n"
          ]
        }
      ]
    },
    {
      "cell_type": "code",
      "source": [
        "!pip install opencv-python -U\n",
        "!pip install umap-learn"
      ],
      "metadata": {
        "id": "7JNb0G789EDZ",
        "colab": {
          "base_uri": "https://localhost:8080/"
        },
        "outputId": "925f03d5-41cd-450a-cdaa-4109d57d4092"
      },
      "execution_count": null,
      "outputs": [
        {
          "output_type": "stream",
          "name": "stdout",
          "text": [
            "Requirement already satisfied: opencv-python in /usr/local/lib/python3.7/dist-packages (4.1.2.30)\n",
            "Collecting opencv-python\n",
            "  Downloading opencv_python-4.5.5.64-cp36-abi3-manylinux_2_17_x86_64.manylinux2014_x86_64.whl (60.5 MB)\n",
            "\u001b[K     |████████████████████████████████| 60.5 MB 1.2 MB/s \n",
            "\u001b[?25hRequirement already satisfied: numpy>=1.14.5 in /usr/local/lib/python3.7/dist-packages (from opencv-python) (1.21.5)\n",
            "Installing collected packages: opencv-python\n",
            "  Attempting uninstall: opencv-python\n",
            "    Found existing installation: opencv-python 4.1.2.30\n",
            "    Uninstalling opencv-python-4.1.2.30:\n",
            "      Successfully uninstalled opencv-python-4.1.2.30\n",
            "\u001b[31mERROR: pip's dependency resolver does not currently take into account all the packages that are installed. This behaviour is the source of the following dependency conflicts.\n",
            "albumentations 0.1.12 requires imgaug<0.2.7,>=0.2.5, but you have imgaug 0.2.9 which is incompatible.\u001b[0m\n",
            "Successfully installed opencv-python-4.5.5.64\n",
            "Collecting umap-learn\n",
            "  Downloading umap-learn-0.5.2.tar.gz (86 kB)\n",
            "\u001b[K     |████████████████████████████████| 86 kB 3.6 MB/s \n",
            "\u001b[?25hRequirement already satisfied: numpy>=1.17 in /usr/local/lib/python3.7/dist-packages (from umap-learn) (1.21.5)\n",
            "Requirement already satisfied: scikit-learn>=0.22 in /usr/local/lib/python3.7/dist-packages (from umap-learn) (1.0.2)\n",
            "Requirement already satisfied: scipy>=1.0 in /usr/local/lib/python3.7/dist-packages (from umap-learn) (1.4.1)\n",
            "Requirement already satisfied: numba>=0.49 in /usr/local/lib/python3.7/dist-packages (from umap-learn) (0.51.2)\n",
            "Collecting pynndescent>=0.5\n",
            "  Downloading pynndescent-0.5.6.tar.gz (1.1 MB)\n",
            "\u001b[K     |████████████████████████████████| 1.1 MB 51.4 MB/s \n",
            "\u001b[?25hRequirement already satisfied: tqdm in /usr/local/lib/python3.7/dist-packages (from umap-learn) (4.63.0)\n",
            "Requirement already satisfied: setuptools in /usr/local/lib/python3.7/dist-packages (from numba>=0.49->umap-learn) (57.4.0)\n",
            "Requirement already satisfied: llvmlite<0.35,>=0.34.0.dev0 in /usr/local/lib/python3.7/dist-packages (from numba>=0.49->umap-learn) (0.34.0)\n",
            "Requirement already satisfied: joblib>=0.11 in /usr/local/lib/python3.7/dist-packages (from pynndescent>=0.5->umap-learn) (1.1.0)\n",
            "Requirement already satisfied: threadpoolctl>=2.0.0 in /usr/local/lib/python3.7/dist-packages (from scikit-learn>=0.22->umap-learn) (3.1.0)\n",
            "Building wheels for collected packages: umap-learn, pynndescent\n",
            "  Building wheel for umap-learn (setup.py) ... \u001b[?25l\u001b[?25hdone\n",
            "  Created wheel for umap-learn: filename=umap_learn-0.5.2-py3-none-any.whl size=82708 sha256=a757334ac18f9ff683c0cc10dce3a9f58940cd601406e2676118f7d7bc67843c\n",
            "  Stored in directory: /root/.cache/pip/wheels/84/1b/c6/aaf68a748122632967cef4dffef68224eb16798b6793257d82\n",
            "  Building wheel for pynndescent (setup.py) ... \u001b[?25l\u001b[?25hdone\n",
            "  Created wheel for pynndescent: filename=pynndescent-0.5.6-py3-none-any.whl size=53943 sha256=09264ad8b1b0b0b61a6ccbad208d1b07f3e0714bec00b90a22fe97990b52365d\n",
            "  Stored in directory: /root/.cache/pip/wheels/03/f1/56/f80d72741e400345b5a5b50ec3d929aca581bf45e0225d5c50\n",
            "Successfully built umap-learn pynndescent\n",
            "Installing collected packages: pynndescent, umap-learn\n",
            "Successfully installed pynndescent-0.5.6 umap-learn-0.5.2\n"
          ]
        }
      ]
    },
    {
      "cell_type": "markdown",
      "source": [
        "This mnist is already in the format of class/image.png"
      ],
      "metadata": {
        "id": "cP9y56UI7aaN"
      }
    },
    {
      "cell_type": "code",
      "source": [
        "!unzip \"/content/drive/MyDrive/mnist.zip\""
      ],
      "metadata": {
        "id": "hlQdJ3o8jrCU",
        "colab": {
          "base_uri": "https://localhost:8080/"
        },
        "outputId": "ad7ced83-c967-4682-9d60-3fefb44eb6e2"
      },
      "execution_count": null,
      "outputs": [
        {
          "output_type": "stream",
          "name": "stdout",
          "text": [
            "Archive:  /content/drive/MyDrive/mnist.zip\n",
            "replace mnist/train/0/1000.png? [y]es, [n]o, [A]ll, [N]one, [r]ename: N\n"
          ]
        }
      ]
    },
    {
      "cell_type": "markdown",
      "source": [
        ""
      ],
      "metadata": {
        "id": "26WiiKAuvvxt"
      }
    },
    {
      "cell_type": "markdown",
      "source": [
        "The general structure of what we want to do is something like:\n",
        "\n",
        "- Load the train and test images\n",
        "- Extract some descriptors from all images. Here we are going to use an algorithm called SIFT/ORF\n",
        "- Generate visual words by applying k-means to the SIFT/ORF descriptors of the train data\n",
        "- Extract an histogram of the visual words from train and test data (effectively generating our features)\n",
        "- Training a ML algorithm\n",
        "- Apply it to test data and evaluate "
      ],
      "metadata": {
        "id": "QAj8uRr77-e9"
      }
    },
    {
      "cell_type": "code",
      "source": [
        "import os  # OS, dealing with file stuff, OS\n",
        "import cv2  # opencv, images library\n",
        "import numpy as np # vector, matrices\n",
        "from tqdm import tqdm # progress bar\n",
        "from pathlib import Path # path-related stuff\n",
        "import matplotlib.pyplot as plt # plotting\n",
        "import umap  # T-SNE / UMAP\n",
        "import pandas as pd # dataframes\n",
        "import seaborn as sns  # plotting\n",
        "from sklearn.svm import SVC # svm\n",
        "from sklearn.ensemble import RandomForestClassifier # random forest\n",
        "from sklearn.metrics import accuracy_score  # just accuracy"
      ],
      "metadata": {
        "id": "Ij04yZXC5o4O"
      },
      "execution_count": null,
      "outputs": []
    },
    {
      "cell_type": "code",
      "source": [
        "# let's start by loading data\n",
        "def load_imgs(folder, grayscale=True):\n",
        "    images = []\n",
        "    for f in tqdm(os.listdir(folder)):      \n",
        "        f = os.path.join(folder, f)\n",
        "        img = cv2.imread(f, 3)\n",
        "        # convert to grayscale\n",
        "        if grayscale:\n",
        "            img = cv2.cvtColor(img, cv2.COLOR_BGR2GRAY)\n",
        "        else:\n",
        "            img = cv2.cvtColor(img, cv2.COLOR_BGR2RGB)\n",
        "        images.append(img)\n",
        "    return images\n",
        "\n",
        "base_folder = Path('mnist')\n",
        "\n",
        "train_imgs = [\n",
        "    (img, y)\n",
        "    for y in os.listdir(base_folder / 'train')\n",
        "    for img in load_imgs(base_folder / 'train' / y)[:100]\n",
        "]  # list comprehension\n",
        "\n",
        "# train_imgs = []\n",
        "# for y in os.listdir(base_folder / 'train'):\n",
        "#     for img in load_imgs(base_folder / 'train' / y)[:100]:\n",
        "#         train_imgs.append((img, y))\n",
        "\n",
        "\n",
        "test_imgs = [\n",
        "    (img, y)\n",
        "    for y in os.listdir(base_folder / 'valid')\n",
        "    for img in load_imgs(base_folder / 'valid' / y)[:100]\n",
        "]"
      ],
      "metadata": {
        "id": "MipitFWcxNl6",
        "colab": {
          "base_uri": "https://localhost:8080/"
        },
        "outputId": "5ec98c4c-cfa3-42de-f3e5-ffbe2723ec68"
      },
      "execution_count": null,
      "outputs": [
        {
          "output_type": "stream",
          "name": "stderr",
          "text": [
            "100%|██████████| 5421/5421 [00:00<00:00, 14887.15it/s]\n",
            "100%|██████████| 5851/5851 [00:00<00:00, 14800.90it/s]\n",
            "100%|██████████| 5923/5923 [00:00<00:00, 16253.21it/s]\n",
            "100%|██████████| 5918/5918 [00:00<00:00, 15384.86it/s]\n",
            "100%|██████████| 5958/5958 [00:00<00:00, 15706.34it/s]\n",
            "100%|██████████| 6742/6742 [00:00<00:00, 16415.48it/s]\n",
            "100%|██████████| 5949/5949 [00:00<00:00, 14363.61it/s]\n",
            "100%|██████████| 6265/6265 [00:00<00:00, 16307.49it/s]\n",
            "100%|██████████| 6131/6131 [00:00<00:00, 15900.81it/s]\n",
            "100%|██████████| 5842/5842 [00:00<00:00, 15615.22it/s]\n",
            "100%|██████████| 892/892 [00:00<00:00, 16339.21it/s]\n",
            "100%|██████████| 974/974 [00:00<00:00, 16007.79it/s]\n",
            "100%|██████████| 980/980 [00:00<00:00, 15935.62it/s]\n",
            "100%|██████████| 958/958 [00:00<00:00, 12953.77it/s]\n",
            "100%|██████████| 1032/1032 [00:00<00:00, 12557.21it/s]\n",
            "100%|██████████| 1135/1135 [00:00<00:00, 17015.22it/s]\n",
            "100%|██████████| 1009/1009 [00:00<00:00, 16206.63it/s]\n",
            "100%|██████████| 1028/1028 [00:00<00:00, 17171.36it/s]\n",
            "100%|██████████| 1010/1010 [00:00<00:00, 15691.72it/s]\n",
            "100%|██████████| 982/982 [00:00<00:00, 16791.03it/s]\n"
          ]
        }
      ]
    },
    {
      "cell_type": "code",
      "source": [
        "print(len(train_imgs))\n",
        "print(len(test_imgs))\n",
        "print(train_imgs[0])"
      ],
      "metadata": {
        "id": "vk0HIFrHj9nQ"
      },
      "execution_count": null,
      "outputs": []
    },
    {
      "cell_type": "code",
      "source": [
        "plt.imshow(train_imgs[0][0], cmap='gray')"
      ],
      "metadata": {
        "colab": {
          "base_uri": "https://localhost:8080/",
          "height": 282
        },
        "id": "6TqrCI4p9fkS",
        "outputId": "47d70561-842d-4d2e-9c1d-f62830ab72d2"
      },
      "execution_count": null,
      "outputs": [
        {
          "output_type": "execute_result",
          "data": {
            "text/plain": [
              "<matplotlib.image.AxesImage at 0x7f69f93b0050>"
            ]
          },
          "metadata": {},
          "execution_count": 8
        },
        {
          "output_type": "display_data",
          "data": {
            "text/plain": [
              "<Figure size 432x288 with 1 Axes>"
            ],
            "image/png": "[encoded data removed]"
          },
          "metadata": {
            "needs_background": "light"
          }
        }
      ]
    },
    {
      "cell_type": "code",
      "source": [
        "plt.imshow(train_imgs[999][0], cmap='gray')"
      ],
      "metadata": {
        "colab": {
          "base_uri": "https://localhost:8080/",
          "height": 282
        },
        "id": "MiK1iYv_9yyE",
        "outputId": "a60b0094-b7b8-4b56-c166-327a50af8698"
      },
      "execution_count": null,
      "outputs": [
        {
          "output_type": "execute_result",
          "data": {
            "text/plain": [
              "<matplotlib.image.AxesImage at 0x7f69efcf3ad0>"
            ]
          },
          "metadata": {},
          "execution_count": 37
        },
        {
          "output_type": "display_data",
          "data": {
            "text/plain": [
              "<Figure size 432x288 with 1 Axes>"
            ],
            "image/png": "[encoded data removed]"
          },
          "metadata": {
            "needs_background": "light"
          }
        }
      ]
    },
    {
      "cell_type": "code",
      "source": [
        "plt.imshow(train_imgs[200][0], cmap='gray')"
      ],
      "metadata": {
        "colab": {
          "base_uri": "https://localhost:8080/",
          "height": 282
        },
        "id": "ltpJacry92Zz",
        "outputId": "0e66ea19-2fe7-4ecc-cd7a-f34394c08a10"
      },
      "execution_count": null,
      "outputs": [
        {
          "output_type": "execute_result",
          "data": {
            "text/plain": [
              "<matplotlib.image.AxesImage at 0x7f69f8612cd0>"
            ]
          },
          "metadata": {},
          "execution_count": 10
        },
        {
          "output_type": "display_data",
          "data": {
            "text/plain": [
              "<Figure size 432x288 with 1 Axes>"
            ],
            "image/png": "[encoded data removed]"
          },
          "metadata": {
            "needs_background": "light"
          }
        }
      ]
    },
    {
      "cell_type": "markdown",
      "source": [
        "Now we are going to extract the descriptors of each image. The algorithm will extract some keypoints from the image, and then, for each keypoint, it's going represent it as a 128-dim/500 (SIFT/ORF) description vector. At this point we are considering that each element is represented as the descriptors of all its keypoints."
      ],
      "metadata": {
        "id": "jmV_XyFi97_C"
      }
    },
    {
      "cell_type": "code",
      "execution_count": null,
      "metadata": {
        "id": "I0S9DN_QtYjX",
        "colab": {
          "base_uri": "https://localhost:8080/"
        },
        "outputId": "bd18c09d-2eb1-4b7c-90c3-a63c88f7974c"
      },
      "outputs": [
        {
          "output_type": "stream",
          "name": "stderr",
          "text": [
            "100%|██████████| 1000/1000 [00:00<00:00, 2630.32it/s]\n",
            "100%|██████████| 1000/1000 [00:00<00:00, 3808.43it/s]\n"
          ]
        }
      ],
      "source": [
        "def extract_descriptors(img, threshold=5):\n",
        "    # https://docs.opencv.org/3.4/db/d27/tutorial_py_table_of_contents_feature2d.html\n",
        "    \n",
        "    # Initiate ORB detector\n",
        "    orb = cv2.ORB_create(edgeThreshold=threshold)\n",
        "    # find the keypoints with ORB\n",
        "    kp = orb.detect(img, None)\n",
        "    # compute the descriptors with ORB\n",
        "    kp, desc = orb.compute(img, kp)\n",
        "    return desc\n",
        "\n",
        "train_desc = [\n",
        "    (extract_descriptors(img), y) for img, y in tqdm(train_imgs)\n",
        "]\n",
        "\n",
        "# train_desc = []\n",
        "# for img, y in tqdm(train_imgs):\n",
        "#     result = (extract_descriptors(img), y)\n",
        "#     train_desc.append(result)\n",
        "\n",
        "test_desc = [\n",
        "    (extract_descriptors(img), y) for img, y in tqdm(test_imgs)\n",
        "]\n",
        "\n",
        "all_train_descriptors = [desc for descriptors, _ in train_desc for desc in descriptors]\n",
        "# all_train_descriptors = []\n",
        "# for descriptors, _ in train_desc:\n",
        "#     for desc in descriptors:\n",
        "#         all_train_descriptors.append(desc)\n"
      ]
    },
    {
      "cell_type": "markdown",
      "source": [
        "Now, we are going to cluster the descriptors of all keypoints in order to find the most meaningful (and unique) representations. We are going to apply k-means to all the descriptors of all keypoints in the training data."
      ],
      "metadata": {
        "id": "L9kt8JaTspFO"
      }
    },
    {
      "cell_type": "code",
      "source": [
        "import numpy as np\n",
        "from sklearn.cluster import MiniBatchKMeans\n",
        "\n",
        "def generate_kmeans(k, descriptor_list):\n",
        "    # .fit()\n",
        "    # .fit_transform()\n",
        "    kmeans = MiniBatchKMeans(n_clusters=k).fit(descriptor_list)\n",
        "    return kmeans\n",
        "\n",
        "k = 500\n",
        "kmeans = generate_kmeans(k, all_train_descriptors)"
      ],
      "metadata": {
        "id": "a-ke9GZ21oT7"
      },
      "execution_count": null,
      "outputs": []
    },
    {
      "cell_type": "markdown",
      "source": [
        "Given all the centroids, we will construct a histogram of size k for each image. For each image, we will increase the k-th element of the histogram by 1 for each keypoint that is closest to the k-th centroid."
      ],
      "metadata": {
        "id": "3N370PLus9h2"
      }
    },
    {
      "cell_type": "code",
      "source": [
        "def build_histogram(kmeans, descriptors):\n",
        "    histogram = np.zeros((len(kmeans.cluster_centers_)))\n",
        "    # predict()\n",
        "    indexes = kmeans.predict(descriptors.astype(float))\n",
        "    for idx in indexes:\n",
        "        histogram[idx] += 1\n",
        "    return histogram\n",
        "\n",
        "\n",
        "X_train = []\n",
        "Y_train = []\n",
        "for desc, y in train_desc:\n",
        "    X_train.append(build_histogram(kmeans, desc))\n",
        "    Y_train.append(y)\n",
        "X_train = np.vstack(X_train)\n",
        "Y_train = np.array(Y_train)\n",
        "\n",
        "X_test = []\n",
        "Y_test = []\n",
        "for desc, y in test_desc:\n",
        "    X_test.append(build_histogram(kmeans, desc))\n",
        "    Y_test.append(y)\n",
        "X_test = np.vstack(X_test)\n",
        "Y_test = np.array(Y_test)\n",
        "\n",
        "print()\n",
        "print('X_train is of size', X_train.shape)\n",
        "print('Y_train is of size', Y_train.shape)\n",
        "print('X_test is of size', X_test.shape)\n",
        "print('Y_test is of size', Y_test.shape)"
      ],
      "metadata": {
        "colab": {
          "base_uri": "https://localhost:8080/"
        },
        "id": "zhOi74H2FScW",
        "outputId": "85808fb4-613e-422f-b1f0-f2891f59ccdf"
      },
      "execution_count": null,
      "outputs": [
        {
          "output_type": "stream",
          "name": "stdout",
          "text": [
            "\n",
            "X_train is of size (1000, 500)\n",
            "Y_train is of size (1000,)\n",
            "X_test is of size (1000, 500)\n",
            "Y_test is of size (1000,)\n"
          ]
        }
      ]
    },
    {
      "cell_type": "markdown",
      "source": [
        "To visualize a bit, we will apply umap to the features of some points (with different classes)"
      ],
      "metadata": {
        "id": "VmPNLl80ta0D"
      }
    },
    {
      "cell_type": "code",
      "source": [
        "data = umap.UMAP(n_components=2).fit_transform(X_train)\n",
        "\n",
        "# assing to dataframe\n",
        "df = pd.DataFrame()\n",
        "df[\"feat_1\"] = data[:, 0]\n",
        "df[\"feat_2\"] = data[:, 1]\n",
        "df[\"y\"] = Y_train\n",
        "\n",
        "plt.figure(figsize=(8, 8))\n",
        "ax = sns.scatterplot(\n",
        "    x=\"feat_1\",\n",
        "    y=\"feat_2\",\n",
        "    hue=\"y\",\n",
        "    palette=sns.color_palette(\"hls\", len(np.unique(Y_test))),\n",
        "    data=df,\n",
        "    legend=\"full\",\n",
        "    alpha=0.3,\n",
        ")\n",
        "plt.tight_layout()\n",
        "plt.show()"
      ],
      "metadata": {
        "id": "bewvHJVQtg2Z"
      },
      "execution_count": null,
      "outputs": []
    },
    {
      "cell_type": "markdown",
      "source": [
        "Lastly, we will train a SVM classifier and a Random forest using all training data and then evaluate it on test data."
      ],
      "metadata": {
        "id": "QyvJ1pGet4A6"
      }
    },
    {
      "cell_type": "code",
      "source": [
        "svm = SVC(kernel='rbf')\n",
        "svm.fit(X_train, Y_train)\n",
        "Y_hat = svm.predict(X_test)\n",
        "print('accuracy:', accuracy_score(Y_test, Y_hat))\n",
        "\n",
        "# rf = RandomForestClassifier(n_estimators=100)\n",
        "# rf.fit(X_train, Y_train)\n",
        "# Y_hat = rf.predict(X_test)\n",
        "# print('accuracy:', accuracy_score(Y_test, Y_hat))"
      ],
      "metadata": {
        "colab": {
          "base_uri": "https://localhost:8080/"
        },
        "id": "JpcgysBbNREx",
        "outputId": "b0daa618-612f-4588-b67d-bd1f9ef46a7a"
      },
      "execution_count": null,
      "outputs": [
        {
          "output_type": "stream",
          "name": "stdout",
          "text": [
            "accuracy: 0.679\n"
          ]
        }
      ]
    },
    {
      "cell_type": "markdown",
      "source": [
        "Some exercises:\n",
        "\n",
        "- Try the code with different features. A good starting point is to try with the pixels directly, as the images are very low-res. Another possibility is to use different extractors from opencv.\n",
        "\n",
        "- Chose something that performs reasonably and doesn't take a long time. Then, play around with the parameters of the SVM and the RandomForest. Also, try different algorithms. It's really easy to import and use them (and the API is the same)!\n",
        "\n",
        "- Run the same algorithm multiple times (you will see a different accuracy each time). Then, collect all these accuracy values and plot a box plot.\n",
        "\n",
        "- Lastly, plot a line plot of the accuracy values that you obtain while varying some hyperparameter of the model."
      ],
      "metadata": {
        "id": "d9iHsCewuElD"
      }
    },
    {
      "cell_type": "code",
      "source": [
        "train_desc = [\n",
        "    (extract_descriptors(img, threshold=1), y) for img, y in tqdm(train_imgs)\n",
        "]\n",
        "\n",
        "test_desc = [\n",
        "    (extract_descriptors(img, threshold=1), y) for img, y in tqdm(test_imgs)\n",
        "]\n",
        "\n",
        "all_train_descriptors = [desc for descriptors, _ in train_desc for desc in descriptors]\n",
        "\n",
        "k = 500\n",
        "kmeans = generate_kmeans(k, all_train_descriptors)\n",
        "\n",
        "X_train = []\n",
        "Y_train = []\n",
        "for desc, y in train_desc:\n",
        "    X_train.append(build_histogram(kmeans, desc))\n",
        "    Y_train.append(y)\n",
        "X_train = np.vstack(X_train)\n",
        "Y_train = np.array(Y_train)\n",
        "\n",
        "X_test = []\n",
        "Y_test = []\n",
        "for desc, y in test_desc:\n",
        "    X_test.append(build_histogram(kmeans, desc))\n",
        "    Y_test.append(y)\n",
        "X_test = np.vstack(X_test)\n",
        "Y_test = np.array(Y_test)\n",
        "\n",
        "svm = SVC(kernel='rbf')\n",
        "svm.fit(X_train, Y_train)\n",
        "Y_hat = svm.predict(X_test)\n",
        "print('accuracy:', accuracy_score(Y_test, Y_hat))"
      ],
      "metadata": {
        "colab": {
          "base_uri": "https://localhost:8080/"
        },
        "id": "Cm-2rAMqH9cV",
        "outputId": "ff4172ea-68cf-4578-efa8-3ca823d96cd7"
      },
      "execution_count": null,
      "outputs": [
        {
          "output_type": "stream",
          "name": "stderr",
          "text": [
            "100%|██████████| 1000/1000 [00:00<00:00, 2935.06it/s]\n",
            "100%|██████████| 1000/1000 [00:00<00:00, 2971.47it/s]\n"
          ]
        },
        {
          "output_type": "stream",
          "name": "stdout",
          "text": [
            "accuracy: 0.723\n"
          ]
        }
      ]
    },
    {
      "cell_type": "code",
      "source": [
        "from skimage.feature import hog\n",
        "\n",
        "base_folder = Path('drive/MyDrive/hot_dog')\n",
        "\n",
        "train_imgs = [\n",
        "    (cv2.resize(img, (64, 64)), y)\n",
        "    for y in os.listdir(base_folder / 'train')\n",
        "    for img in load_imgs(base_folder / 'train' / y, grayscale=False)\n",
        "]\n",
        "\n",
        "test_imgs = [\n",
        "    (cv2.resize(img, (64, 64)), y)\n",
        "    for y in os.listdir(base_folder / 'test')\n",
        "    for img in load_imgs(base_folder / 'test' / y, grayscale=False)\n",
        "]\n"
      ],
      "metadata": {
        "colab": {
          "base_uri": "https://localhost:8080/"
        },
        "id": "xz5qQbhHOoJP",
        "outputId": "26ebae34-9530-49a6-d565-9277a29aff22"
      },
      "execution_count": null,
      "outputs": [
        {
          "output_type": "stream",
          "name": "stderr",
          "text": [
            "100%|██████████| 5421/5421 [00:00<00:00, 14779.50it/s]\n",
            "100%|██████████| 5851/5851 [00:00<00:00, 15273.33it/s]\n",
            "100%|██████████| 5923/5923 [00:00<00:00, 14135.19it/s]\n",
            "100%|██████████| 5918/5918 [00:00<00:00, 15851.98it/s]\n",
            "100%|██████████| 5958/5958 [00:00<00:00, 15772.16it/s]\n",
            "100%|██████████| 6742/6742 [00:00<00:00, 16034.17it/s]\n",
            "100%|██████████| 5949/5949 [00:00<00:00, 15900.67it/s]\n",
            "100%|██████████| 6265/6265 [00:00<00:00, 15265.12it/s]\n",
            "100%|██████████| 6131/6131 [00:00<00:00, 16396.10it/s]\n",
            "100%|██████████| 5842/5842 [00:00<00:00, 15914.92it/s]\n",
            "100%|██████████| 892/892 [00:00<00:00, 15106.55it/s]\n",
            "100%|██████████| 974/974 [00:00<00:00, 14954.32it/s]\n",
            "100%|██████████| 980/980 [00:00<00:00, 15178.07it/s]\n",
            "100%|██████████| 958/958 [00:00<00:00, 16349.20it/s]\n",
            "100%|██████████| 1032/1032 [00:00<00:00, 17012.89it/s]\n",
            "100%|██████████| 1135/1135 [00:00<00:00, 15227.91it/s]\n",
            "100%|██████████| 1009/1009 [00:00<00:00, 16830.19it/s]\n",
            "100%|██████████| 1028/1028 [00:00<00:00, 14928.36it/s]\n",
            "100%|██████████| 1010/1010 [00:00<00:00, 15185.10it/s]\n",
            "100%|██████████| 982/982 [00:00<00:00, 16728.77it/s]\n"
          ]
        }
      ]
    },
    {
      "cell_type": "code",
      "source": [
        "len(train_imgs)"
      ],
      "metadata": {
        "colab": {
          "base_uri": "https://localhost:8080/"
        },
        "id": "ZptHbydo4o8H",
        "outputId": "03f54762-4473-4498-8d80-5ad5ee1e7d40"
      },
      "execution_count": null,
      "outputs": [
        {
          "output_type": "execute_result",
          "data": {
            "text/plain": [
              "1000"
            ]
          },
          "metadata": {},
          "execution_count": 44
        }
      ]
    },
    {
      "cell_type": "code",
      "source": [
        "plt.imshow(train_imgs[50][0], cmap='gray')"
      ],
      "metadata": {
        "colab": {
          "base_uri": "https://localhost:8080/",
          "height": 282
        },
        "id": "QWvF-G14Q_br",
        "outputId": "f39f323f-e25b-495b-aad1-6693bce0af83"
      },
      "execution_count": null,
      "outputs": [
        {
          "output_type": "execute_result",
          "data": {
            "text/plain": [
              "<matplotlib.image.AxesImage at 0x7f69e5207950>"
            ]
          },
          "metadata": {},
          "execution_count": 46
        },
        {
          "output_type": "display_data",
          "data": {
            "text/plain": [
              "<Figure size 432x288 with 1 Axes>"
            ],
            "image/png": "[encoded data removed]"
          },
          "metadata": {
            "needs_background": "light"
          }
        }
      ]
    },
    {
      "cell_type": "code",
      "source": [
        "X_train = []\n",
        "Y_train = []\n",
        "for img, y in tqdm(train_imgs):\n",
        "    X_train.append(hog(img))\n",
        "    Y_train.append(y)\n",
        "X_train = np.vstack(X_train)\n",
        "Y_train = np.array(Y_train)\n",
        "\n",
        "X_test = []\n",
        "Y_test = []\n",
        "for img, y in tqdm(test_imgs):\n",
        "    X_test.append(hog(img))\n",
        "    Y_test.append(y)\n",
        "X_test = np.vstack(X_test)\n",
        "Y_test = np.array(Y_test)\n",
        "\n",
        "svm = SVC(kernel='rbf')\n",
        "svm.fit(X_train, Y_train)\n",
        "Y_hat = svm.predict(X_test)\n",
        "print('accuracy:', accuracy_score(Y_test, Y_hat))"
      ],
      "metadata": {
        "colab": {
          "base_uri": "https://localhost:8080/"
        },
        "id": "l5bKNGtLQ-Vb",
        "outputId": "696dd897-f2ce-40b0-b6e7-01426fd7a3d8"
      },
      "execution_count": null,
      "outputs": [
        {
          "output_type": "stream",
          "name": "stderr",
          "text": [
            "100%|██████████| 1000/1000 [00:00<00:00, 2762.64it/s]\n",
            "100%|██████████| 1000/1000 [00:00<00:00, 3033.25it/s]\n"
          ]
        },
        {
          "output_type": "stream",
          "name": "stdout",
          "text": [
            "accuracy: 0.934\n"
          ]
        }
      ]
    }
  ]
}